{
 "cells": [
  {
   "cell_type": "markdown",
   "source": [
    "# ***TASK5***\r\n",
    "## Registration/referral ID - SIRSS2317\r\n",
    "## Full Name: Shivam Jha\r\n",
    "## College: Maharaja Surajmal Institute Of Technology "
   ],
   "metadata": {}
  },
  {
   "cell_type": "markdown",
   "source": [
    "### ***Q1. Given a list of integers, write a function to return the sum of all prime numbers in that list.***"
   ],
   "metadata": {}
  },
  {
   "cell_type": "code",
   "execution_count": 1,
   "source": [
    "numbers=input(\"\").split(' ')\r\n",
    "sum=0\r\n",
    "for n in numbers:\r\n",
    "    n=int(n)\r\n",
    "    isPrime=True\r\n",
    "    if n > 1:\r\n",
    "       \r\n",
    "        for i in range(2, n):\r\n",
    "            if (n % i) == 0:\r\n",
    "                isPrime=False\r\n",
    "                break\r\n",
    "        if isPrime:\r\n",
    "            sum+=n\r\n",
    "\r\n",
    "print(str(sum))"
   ],
   "outputs": [
    {
     "output_type": "stream",
     "name": "stdout",
     "text": [
      "22\n"
     ]
    }
   ],
   "metadata": {}
  },
  {
   "cell_type": "markdown",
   "source": [
    "## ***Q2. Given a list of integers, write a function to check whether the list is strictly increasing or not.***"
   ],
   "metadata": {}
  },
  {
   "cell_type": "code",
   "execution_count": 2,
   "source": [
    "\r\n",
    "list = [1, 4, 5, 7, 8, 10]\r\n",
    "  \r\n",
    "\r\n",
    "print (\"Original list : \" + str(list))\r\n",
    "  \r\n",
    "result = all(i < j for i, j in zip(list,list[1:]))\r\n",
    "  \r\n",
    "\r\n",
    "print (\"Is the list strictly increasing ? : \" + str(result))"
   ],
   "outputs": [
    {
     "output_type": "stream",
     "name": "stdout",
     "text": [
      "Original list : [1, 4, 5, 7, 8, 10]\n",
      "Is the list strictly increasing ? : True\n"
     ]
    }
   ],
   "metadata": {}
  },
  {
   "cell_type": "markdown",
   "source": [
    "### ***Q3. Write a function to check whether a given list is expanding or not (the difference between adjacent elements should keep on increasing).***"
   ],
   "metadata": {}
  },
  {
   "cell_type": "code",
   "execution_count": 3,
   "source": [
    "def expand(m):\r\n",
    "    a = abs(m[1] - m[0])\r\n",
    "    b = abs(m[2] - m[1])\r\n",
    "    \r\n",
    "    if a >= b:\r\n",
    "        return False\r\n",
    "    \r\n",
    "    else:\r\n",
    "        for i in range(3,len(m)):\r\n",
    "            c = abs(m[i] - m[i-1])\r\n",
    "            if c <= b:\r\n",
    "                return False\r\n",
    "            b = c\r\n",
    "        else:\r\n",
    "            return True\r\n",
    "       "
   ],
   "outputs": [],
   "metadata": {}
  },
  {
   "cell_type": "code",
   "execution_count": 4,
   "source": [
    "expand([2,4,5,6,8])"
   ],
   "outputs": [
    {
     "output_type": "execute_result",
     "data": {
      "text/plain": [
       "False"
      ]
     },
     "metadata": {},
     "execution_count": 4
    }
   ],
   "metadata": {}
  },
  {
   "cell_type": "markdown",
   "source": [
    "## ***Q4. Write a function to calculate all permutations of a given string. (Without using itertools)***"
   ],
   "metadata": {}
  },
  {
   "cell_type": "code",
   "execution_count": 5,
   "source": [
    "def permutation(n, ans):\r\n",
    "    if (len(n) == 0):\r\n",
    "        print(ans, end = \"  \")\r\n",
    "        return\r\n",
    "     \r\n",
    "    for i in range(len(n)):\r\n",
    "        ch = n[i]\r\n",
    "        left = n[0:i]\r\n",
    "        right = n[i + 1:]\r\n",
    "        rest = left + right\r\n",
    "        permutation(rest, ans + ch)\r\n",
    " \r\n",
    "\r\n",
    "ans = \"\"\r\n",
    " \r\n",
    "n = input(\"Enter the string : \")\r\n",
    " \r\n",
    "print(\"All possible strings are : \")\r\n",
    "permutation(n, ans)"
   ],
   "outputs": [
    {
     "output_type": "stream",
     "name": "stdout",
     "text": [
      "All possible strings are : \n",
      "shivam  shivma  shiavm  shiamv  shimva  shimav  shviam  shvima  shvaim  shvami  shvmia  shvmai  shaivm  shaimv  shavim  shavmi  shamiv  shamvi  shmiva  shmiav  shmvia  shmvai  shmaiv  shmavi  sihvam  sihvma  sihavm  sihamv  sihmva  sihmav  sivham  sivhma  sivahm  sivamh  sivmha  sivmah  siahvm  siahmv  siavhm  siavmh  siamhv  siamvh  simhva  simhav  simvha  simvah  simahv  simavh  svhiam  svhima  svhaim  svhami  svhmia  svhmai  sviham  svihma  sviahm  sviamh  svimha  svimah  svahim  svahmi  svaihm  svaimh  svamhi  svamih  svmhia  svmhai  svmiha  svmiah  svmahi  svmaih  sahivm  sahimv  sahvim  sahvmi  sahmiv  sahmvi  saihvm  saihmv  saivhm  saivmh  saimhv  saimvh  savhim  savhmi  savihm  savimh  savmhi  savmih  samhiv  samhvi  samihv  samivh  samvhi  samvih  smhiva  smhiav  smhvia  smhvai  smhaiv  smhavi  smihva  smihav  smivha  smivah  smiahv  smiavh  smvhia  smvhai  smviha  smviah  smvahi  smvaih  smahiv  smahvi  smaihv  smaivh  smavhi  smavih  hsivam  hsivma  hsiavm  hsiamv  hsimva  hsimav  hsviam  hsvima  hsvaim  hsvami  hsvmia  hsvmai  hsaivm  hsaimv  hsavim  hsavmi  hsamiv  hsamvi  hsmiva  hsmiav  hsmvia  hsmvai  hsmaiv  hsmavi  hisvam  hisvma  hisavm  hisamv  hismva  hismav  hivsam  hivsma  hivasm  hivams  hivmsa  hivmas  hiasvm  hiasmv  hiavsm  hiavms  hiamsv  hiamvs  himsva  himsav  himvsa  himvas  himasv  himavs  hvsiam  hvsima  hvsaim  hvsami  hvsmia  hvsmai  hvisam  hvisma  hviasm  hviams  hvimsa  hvimas  hvasim  hvasmi  hvaism  hvaims  hvamsi  hvamis  hvmsia  hvmsai  hvmisa  hvmias  hvmasi  hvmais  hasivm  hasimv  hasvim  hasvmi  hasmiv  hasmvi  haisvm  haismv  haivsm  haivms  haimsv  haimvs  havsim  havsmi  havism  havims  havmsi  havmis  hamsiv  hamsvi  hamisv  hamivs  hamvsi  hamvis  hmsiva  hmsiav  hmsvia  hmsvai  hmsaiv  hmsavi  hmisva  hmisav  hmivsa  hmivas  hmiasv  hmiavs  hmvsia  hmvsai  hmvisa  hmvias  hmvasi  hmvais  hmasiv  hmasvi  hmaisv  hmaivs  hmavsi  hmavis  ishvam  ishvma  ishavm  ishamv  ishmva  ishmav  isvham  isvhma  isvahm  isvamh  isvmha  isvmah  isahvm  isahmv  isavhm  isavmh  isamhv  isamvh  ismhva  ismhav  ismvha  ismvah  ismahv  ismavh  ihsvam  ihsvma  ihsavm  ihsamv  ihsmva  ihsmav  ihvsam  ihvsma  ihvasm  ihvams  ihvmsa  ihvmas  ihasvm  ihasmv  ihavsm  ihavms  ihamsv  ihamvs  ihmsva  ihmsav  ihmvsa  ihmvas  ihmasv  ihmavs  ivsham  ivshma  ivsahm  ivsamh  ivsmha  ivsmah  ivhsam  ivhsma  ivhasm  ivhams  ivhmsa  ivhmas  ivashm  ivasmh  ivahsm  ivahms  ivamsh  ivamhs  ivmsha  ivmsah  ivmhsa  ivmhas  ivmash  ivmahs  iashvm  iashmv  iasvhm  iasvmh  iasmhv  iasmvh  iahsvm  iahsmv  iahvsm  iahvms  iahmsv  iahmvs  iavshm  iavsmh  iavhsm  iavhms  iavmsh  iavmhs  iamshv  iamsvh  iamhsv  iamhvs  iamvsh  iamvhs  imshva  imshav  imsvha  imsvah  imsahv  imsavh  imhsva  imhsav  imhvsa  imhvas  imhasv  imhavs  imvsha  imvsah  imvhsa  imvhas  imvash  imvahs  imashv  imasvh  imahsv  imahvs  imavsh  imavhs  vshiam  vshima  vshaim  vshami  vshmia  vshmai  vsiham  vsihma  vsiahm  vsiamh  vsimha  vsimah  vsahim  vsahmi  vsaihm  vsaimh  vsamhi  vsamih  vsmhia  vsmhai  vsmiha  vsmiah  vsmahi  vsmaih  vhsiam  vhsima  vhsaim  vhsami  vhsmia  vhsmai  vhisam  vhisma  vhiasm  vhiams  vhimsa  vhimas  vhasim  vhasmi  vhaism  vhaims  vhamsi  vhamis  vhmsia  vhmsai  vhmisa  vhmias  vhmasi  vhmais  visham  vishma  visahm  visamh  vismha  vismah  vihsam  vihsma  vihasm  vihams  vihmsa  vihmas  viashm  viasmh  viahsm  viahms  viamsh  viamhs  vimsha  vimsah  vimhsa  vimhas  vimash  vimahs  vashim  vashmi  vasihm  vasimh  vasmhi  vasmih  vahsim  vahsmi  vahism  vahims  vahmsi  vahmis  vaishm  vaismh  vaihsm  vaihms  vaimsh  vaimhs  vamshi  vamsih  vamhsi  vamhis  vamish  vamihs  vmshia  vmshai  vmsiha  vmsiah  vmsahi  vmsaih  vmhsia  vmhsai  vmhisa  vmhias  vmhasi  vmhais  vmisha  vmisah  vmihsa  vmihas  vmiash  vmiahs  vmashi  vmasih  vmahsi  vmahis  vmaish  vmaihs  ashivm  ashimv  ashvim  ashvmi  ashmiv  ashmvi  asihvm  asihmv  asivhm  asivmh  asimhv  asimvh  asvhim  asvhmi  asvihm  asvimh  asvmhi  asvmih  asmhiv  asmhvi  asmihv  asmivh  asmvhi  asmvih  ahsivm  ahsimv  ahsvim  ahsvmi  ahsmiv  ahsmvi  ahisvm  ahismv  ahivsm  ahivms  ahimsv  ahimvs  ahvsim  ahvsmi  ahvism  ahvims  ahvmsi  ahvmis  ahmsiv  ahmsvi  ahmisv  ahmivs  ahmvsi  ahmvis  aishvm  aishmv  aisvhm  aisvmh  aismhv  aismvh  aihsvm  aihsmv  aihvsm  aihvms  aihmsv  aihmvs  aivshm  aivsmh  aivhsm  aivhms  aivmsh  aivmhs  aimshv  aimsvh  aimhsv  aimhvs  aimvsh  aimvhs  avshim  avshmi  avsihm  avsimh  avsmhi  avsmih  avhsim  avhsmi  avhism  avhims  avhmsi  avhmis  avishm  avismh  avihsm  avihms  avimsh  avimhs  avmshi  avmsih  avmhsi  avmhis  avmish  avmihs  amshiv  amshvi  amsihv  amsivh  amsvhi  amsvih  amhsiv  amhsvi  amhisv  amhivs  amhvsi  amhvis  amishv  amisvh  amihsv  amihvs  amivsh  amivhs  amvshi  amvsih  amvhsi  amvhis  amvish  amvihs  mshiva  mshiav  mshvia  mshvai  mshaiv  mshavi  msihva  msihav  msivha  msivah  msiahv  msiavh  msvhia  msvhai  msviha  msviah  msvahi  msvaih  msahiv  msahvi  msaihv  msaivh  msavhi  msavih  mhsiva  mhsiav  mhsvia  mhsvai  mhsaiv  mhsavi  mhisva  mhisav  mhivsa  mhivas  mhiasv  mhiavs  mhvsia  mhvsai  mhvisa  mhvias  mhvasi  mhvais  mhasiv  mhasvi  mhaisv  mhaivs  mhavsi  mhavis  mishva  mishav  misvha  misvah  misahv  misavh  mihsva  mihsav  mihvsa  mihvas  mihasv  mihavs  mivsha  mivsah  mivhsa  mivhas  mivash  mivahs  miashv  miasvh  miahsv  miahvs  miavsh  miavhs  mvshia  mvshai  mvsiha  mvsiah  mvsahi  mvsaih  mvhsia  mvhsai  mvhisa  mvhias  mvhasi  mvhais  mvisha  mvisah  mvihsa  mvihas  mviash  mviahs  mvashi  mvasih  mvahsi  mvahis  mvaish  mvaihs  mashiv  mashvi  masihv  masivh  masvhi  masvih  mahsiv  mahsvi  mahisv  mahivs  mahvsi  mahvis  maishv  maisvh  maihsv  maihvs  maivsh  maivhs  mavshi  mavsih  mavhsi  mavhis  mavish  mavihs  "
     ]
    }
   ],
   "metadata": {}
  }
 ],
 "metadata": {
  "kernelspec": {
   "name": "python3",
   "display_name": "Python 3.9.6 64-bit"
  },
  "language_info": {
   "codemirror_mode": {
    "name": "ipython",
    "version": 3
   },
   "file_extension": ".py",
   "mimetype": "text/x-python",
   "name": "python",
   "nbconvert_exporter": "python",
   "pygments_lexer": "ipython3",
   "version": "3.9.6"
  },
  "interpreter": {
   "hash": "33dc6d49505b4536b6a128d9d7c879e1fa44477ad44947bbbe73093067fe6393"
  }
 },
 "nbformat": 4,
 "nbformat_minor": 4
}