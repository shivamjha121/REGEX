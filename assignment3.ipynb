{
 "cells": [
  {
   "cell_type": "markdown",
   "source": [
    "# Assignment 3"
   ],
   "metadata": {}
  },
  {
   "cell_type": "markdown",
   "source": [
    "## Register Id: SIRSS2317"
   ],
   "metadata": {}
  },
  {
   "cell_type": "markdown",
   "source": [
    "## Name: Shivam Jha"
   ],
   "metadata": {}
  },
  {
   "cell_type": "markdown",
   "source": [
    "## College: Maharaja Surajmal Institute Of Technology\r\n"
   ],
   "metadata": {}
  },
  {
   "cell_type": "markdown",
   "source": [
    "# 1. Function to return nth term Fibonacci series"
   ],
   "metadata": {}
  },
  {
   "cell_type": "code",
   "execution_count": 7,
   "source": [
    "def fibo(n):\r\n",
    "    a=1\r\n",
    "    b=1\r\n",
    "    if n==1:\r\n",
    "        print('0')\r\n",
    "    elif n==2:\r\n",
    "        print('0','1')\r\n",
    "    else:\r\n",
    "        print('0',a,b,end=' ')\r\n",
    "        for i in range(n-3):\r\n",
    "            total = a + b\r\n",
    "            b=a\r\n",
    "            a= total\r\n",
    "            print(total,end=' ')\r\n",
    "        \r\n",
    "        \r\n",
    "         \r\n",
    "n=int(input(\"Enter the number:\"))\r\n",
    "fibo(n)"
   ],
   "outputs": [
    {
     "output_type": "stream",
     "name": "stdout",
     "text": [
      "0 1 1 2 3 5 8 13 21 34 "
     ]
    }
   ],
   "metadata": {}
  },
  {
   "cell_type": "markdown",
   "source": [
    "# 2. GCD of two numbers using EUCLID's Algorithm"
   ],
   "metadata": {}
  },
  {
   "cell_type": "code",
   "execution_count": 8,
   "source": [
    "n1=int(input(\"Enter first number:\"))\r\n",
    "n2=int(input(\"Enter second number:\"))\r\n",
    "min1=min(n1,n2)\r\n",
    "res=1\r\n",
    "for i in range(2,min1+1):\r\n",
    "  if ((n1%i==0) and (n2%i==0)):\r\n",
    "    res=i\r\n",
    "\r\n",
    "print(\"GCD of {0} and {1} is {2}\".format(n1,n2,res))"
   ],
   "outputs": [
    {
     "output_type": "stream",
     "name": "stdout",
     "text": [
      "GCD of 1 and 2 is 1\n"
     ]
    }
   ],
   "metadata": {}
  },
  {
   "cell_type": "markdown",
   "source": [
    "# 3.LCM of two numbers in most optimizer way.\r\n"
   ],
   "metadata": {}
  },
  {
   "cell_type": "code",
   "execution_count": 9,
   "source": [
    "n1=int(input(\"Enter first number:\"))\r\n",
    "n2=int(input(\"Enter second number:\"))\r\n",
    "j=max(n1,n2)\r\n",
    "while(True):\r\n",
    "  if (j%n1==0) and (j%n2==0):\r\n",
    "    result=j\r\n",
    "    break\r\n",
    "  else:\r\n",
    "    j=j+1\r\n",
    "\r\n",
    "print(\"LCM of {0} and {1} is {2}\".format(n1,n2,result))"
   ],
   "outputs": [
    {
     "output_type": "stream",
     "name": "stdout",
     "text": [
      "LCM of 2 and 2 is 2\n"
     ]
    }
   ],
   "metadata": {}
  }
 ],
 "metadata": {
  "orig_nbformat": 4,
  "language_info": {
   "name": "python",
   "version": "3.9.6",
   "mimetype": "text/x-python",
   "codemirror_mode": {
    "name": "ipython",
    "version": 3
   },
   "pygments_lexer": "ipython3",
   "nbconvert_exporter": "python",
   "file_extension": ".py"
  },
  "kernelspec": {
   "name": "python3",
   "display_name": "Python 3.9.6 64-bit"
  },
  "interpreter": {
   "hash": "33dc6d49505b4536b6a128d9d7c879e1fa44477ad44947bbbe73093067fe6393"
  }
 },
 "nbformat": 4,
 "nbformat_minor": 2
}